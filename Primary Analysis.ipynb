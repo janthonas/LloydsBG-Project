{
 "cells": [
  {
   "cell_type": "markdown",
   "id": "3de71d49",
   "metadata": {},
   "source": [
    "## Import Libraries"
   ]
  },
  {
   "cell_type": "code",
   "execution_count": 1,
   "id": "915af7fc",
   "metadata": {},
   "outputs": [],
   "source": [
    "# Importing necessary libraries\n",
    "import pandas as pd\n",
    "import numpy as np"
   ]
  },
  {
   "cell_type": "markdown",
   "id": "f5d337fc",
   "metadata": {},
   "source": [
    "## Loading the Dataset"
   ]
  },
  {
   "cell_type": "code",
   "execution_count": 2,
   "id": "fc995a5b",
   "metadata": {},
   "outputs": [],
   "source": [
    "# Loading in and setting the data\n",
    "# You can't download these files from the github, you have to drop them in the folder\n",
    "tx_data = pd.read_csv('fake_transactional_data_24.csv')\n",
    "tx_df = pd.DataFrame(tx_data)"
   ]
  },
  {
   "cell_type": "code",
   "execution_count": 3,
   "id": "cc2cc353",
   "metadata": {},
   "outputs": [
    {
     "data": {
      "text/html": [
       "<div>\n",
       "<style scoped>\n",
       "    .dataframe tbody tr th:only-of-type {\n",
       "        vertical-align: middle;\n",
       "    }\n",
       "\n",
       "    .dataframe tbody tr th {\n",
       "        vertical-align: top;\n",
       "    }\n",
       "\n",
       "    .dataframe thead th {\n",
       "        text-align: right;\n",
       "    }\n",
       "</style>\n",
       "<table border=\"1\" class=\"dataframe\">\n",
       "  <thead>\n",
       "    <tr style=\"text-align: right;\">\n",
       "      <th></th>\n",
       "      <th>from_totally_fake_account</th>\n",
       "      <th>monopoly_money_amount</th>\n",
       "      <th>to_randomly_generated_account</th>\n",
       "      <th>not_happened_yet_date</th>\n",
       "    </tr>\n",
       "  </thead>\n",
       "  <tbody>\n",
       "    <tr>\n",
       "      <th>0</th>\n",
       "      <td>10371.0</td>\n",
       "      <td>4.00</td>\n",
       "      <td>CINEMA</td>\n",
       "      <td>01/01/2025</td>\n",
       "    </tr>\n",
       "    <tr>\n",
       "      <th>1</th>\n",
       "      <td>88339.0</td>\n",
       "      <td>2.40</td>\n",
       "      <td>40544</td>\n",
       "      <td>01/01/2025</td>\n",
       "    </tr>\n",
       "    <tr>\n",
       "      <th>2</th>\n",
       "      <td>18555.0</td>\n",
       "      <td>2.40</td>\n",
       "      <td>85149</td>\n",
       "      <td>01/01/2025</td>\n",
       "    </tr>\n",
       "    <tr>\n",
       "      <th>3</th>\n",
       "      <td>18555.0</td>\n",
       "      <td>4.10</td>\n",
       "      <td>HIPSTER_COFFEE_SHOP</td>\n",
       "      <td>01/01/2025</td>\n",
       "    </tr>\n",
       "    <tr>\n",
       "      <th>4</th>\n",
       "      <td>80792.0</td>\n",
       "      <td>1.95</td>\n",
       "      <td>18555</td>\n",
       "      <td>01/01/2025</td>\n",
       "    </tr>\n",
       "  </tbody>\n",
       "</table>\n",
       "</div>"
      ],
      "text/plain": [
       "   from_totally_fake_account  monopoly_money_amount  \\\n",
       "0                    10371.0                   4.00   \n",
       "1                    88339.0                   2.40   \n",
       "2                    18555.0                   2.40   \n",
       "3                    18555.0                   4.10   \n",
       "4                    80792.0                   1.95   \n",
       "\n",
       "  to_randomly_generated_account not_happened_yet_date  \n",
       "0                        CINEMA            01/01/2025  \n",
       "1                         40544            01/01/2025  \n",
       "2                         85149            01/01/2025  \n",
       "3           HIPSTER_COFFEE_SHOP            01/01/2025  \n",
       "4                         18555            01/01/2025  "
      ]
     },
     "execution_count": 3,
     "metadata": {},
     "output_type": "execute_result"
    }
   ],
   "source": [
    "tx_df.head()"
   ]
  },
  {
   "cell_type": "markdown",
   "id": "7ce5b761",
   "metadata": {},
   "source": [
    "### Creating Senders and Receivers List"
   ]
  },
  {
   "cell_type": "code",
   "execution_count": 4,
   "id": "b163b2a6",
   "metadata": {},
   "outputs": [
    {
     "name": "stdout",
     "output_type": "stream",
     "text": [
      "0                        CINEMA\n",
      "1                         40544\n",
      "2                         85149\n",
      "3           HIPSTER_COFFEE_SHOP\n",
      "4                         18555\n",
      "                   ...         \n",
      "10148275            COFFEE_SHOP\n",
      "10148276            COFFEE_SHOP\n",
      "10148277               WINE_BAR\n",
      "10148278                  57569\n",
      "10148279    A_LOCAL_COFFEE_SHOP\n",
      "Name: to_randomly_generated_account, Length: 10148280, dtype: object\n"
     ]
    }
   ],
   "source": [
    "# Creating senders and receivers list\n",
    "senders_list = sorted(tx_df['from_totally_fake_account'])\n",
    "receivers_list = sorted(tx_df['to_randomly_generated_account'])\n",
    "\n",
    "print(tx_df['to_randomly_generated_account'])"
   ]
  },
  {
   "cell_type": "markdown",
   "id": "7311dd1a",
   "metadata": {},
   "source": [
    "## Business Data Extraction and Organization"
   ]
  },
  {
   "cell_type": "code",
   "execution_count": 5,
   "id": "db6556a4",
   "metadata": {},
   "outputs": [],
   "source": [
    "# Creating business and users list\n",
    "receivers_biz_list = []\n",
    "receivers_user_list = []\n",
    "\n",
    "for receiver in receivers_list:\n",
    "    if receiver.isnumeric() == True:\n",
    "        receivers_user_list.append(receiver)\n",
    "    else:\n",
    "        receivers_biz_list.append(receiver)"
   ]
  },
  {
   "cell_type": "code",
   "execution_count": 6,
   "id": "d08cdc7d",
   "metadata": {},
   "outputs": [],
   "source": [
    "unique_senders_list = sorted(list(set(senders_list)))\n",
    "unique_receivers_list = sorted(list(set(receivers_list)))\n",
    "unique_receivers_biz_list = sorted(list(set(receivers_biz_list)))\n",
    "unique_receivers_user_list = sorted(list(set(receivers_user_list)))"
   ]
  },
  {
   "cell_type": "markdown",
   "id": "28eb7854",
   "metadata": {},
   "source": [
    "### Extracting Valuable Business Data"
   ]
  },
  {
   "cell_type": "code",
   "execution_count": 7,
   "id": "78becde7",
   "metadata": {},
   "outputs": [],
   "source": [
    "# Creating business table\n",
    "# Pruning data from original dataframe\n",
    "biz_tx_df = tx_df[tx_df['to_randomly_generated_account'].isin(unique_receivers_biz_list)]\n",
    "biz_tx_df = biz_tx_df.sort_values('to_randomly_generated_account')\n",
    "\n",
    "# Getting list of ordered names\n",
    "biz_name_list = list(biz_tx_df['to_randomly_generated_account'].unique())"
   ]
  },
  {
   "cell_type": "code",
   "execution_count": 8,
   "id": "7caf273e",
   "metadata": {},
   "outputs": [],
   "source": [
    "# Getting Descriptive Stats\n",
    "biz_tx_count = biz_tx_df.groupby('to_randomly_generated_account')['monopoly_money_amount'].count()\n",
    "biz_tx_sum = biz_tx_df.groupby('to_randomly_generated_account')['monopoly_money_amount'].sum()\n",
    "\n",
    "biz_tx_mean = biz_tx_df.groupby('to_randomly_generated_account')['monopoly_money_amount'].mean()\n",
    "biz_tx_median = biz_tx_df.groupby('to_randomly_generated_account')['monopoly_money_amount'].median()"
   ]
  },
  {
   "cell_type": "code",
   "execution_count": 9,
   "id": "6fda25a9",
   "metadata": {},
   "outputs": [],
   "source": [
    "# Needed to count words\n",
    "from collections import Counter\n",
    "\n",
    "# Custom aggregation function for sorted list\n",
    "def sorted_list_agg(input_list):\n",
    "    return sorted(input_list)\n",
    "\n",
    "# Custom aggregation function for sorted unique list\n",
    "def sorted_unique_list_agg(input_list):\n",
    "    return sorted(input_list.unique())\n",
    "\n",
    "def sorted_list_count_agg(input_list):\n",
    "    # Sort the list\n",
    "    input_list = sorted(input_list)\n",
    "    \n",
    "    # Count the frequencies\n",
    "    input_word_freqs = Counter(input_list)\n",
    "    \n",
    "    # Generate the output list\n",
    "    # dict.fromkeys iterates over the words in the order they occur, it ensures the words remain in order\n",
    "    output_list = [input_word_freqs[word_count] for word_count in dict.fromkeys(input_word_freqs)]\n",
    "    \n",
    "    return output_list"
   ]
  },
  {
   "cell_type": "code",
   "execution_count": 10,
   "id": "9e186b43",
   "metadata": {},
   "outputs": [],
   "source": [
    "# Getting Business Sorted Customer Details\n",
    "biz_tx_customers_sorted = biz_tx_df.groupby('to_randomly_generated_account')['from_totally_fake_account'].agg(sorted_list_agg)\n",
    "\n",
    "# Getting Business Unique Sorted Customer Details\n",
    "biz_tx_customers_sorted_unique = biz_tx_df.groupby('to_randomly_generated_account')['from_totally_fake_account'].agg(sorted_unique_list_agg)\n",
    "\n",
    "# Getting Business Sorted Customer Details Count\n",
    "biz_tx_customers_sorted_unique_count = biz_tx_df.groupby('to_randomly_generated_account')['from_totally_fake_account'].agg(sorted_list_count_agg)"
   ]
  },
  {
   "cell_type": "markdown",
   "id": "d641ef4e",
   "metadata": {},
   "source": [
    "### Building Business Dataframes"
   ]
  },
  {
   "cell_type": "code",
   "execution_count": 11,
   "id": "4ee021e7",
   "metadata": {},
   "outputs": [],
   "source": [
    "# Building business accounts table\n",
    "biz_slim_data = {\n",
    "    'name': biz_name_list,\n",
    "    'tx_count': list(biz_tx_count),\n",
    "    'tx_sum_gbp': list(biz_tx_sum),\n",
    "    'tx_mean_gbp': list(biz_tx_mean),\n",
    "    'tx_median_gbp': list(biz_tx_median)\n",
    "}\n",
    "\n",
    "# Building business accounts table\n",
    "biz_large_data = {\n",
    "    'name': biz_name_list,\n",
    "    'tx_count': list(biz_tx_count),\n",
    "    'tx_sum_gbp': list(biz_tx_sum),\n",
    "    'tx_mean_gbp': list(biz_tx_mean),\n",
    "    'tx_median_gbp': list(biz_tx_median),\n",
    "    'customers_sorted_unique': list(biz_tx_customers_sorted_unique),\n",
    "    'customers_tx_count': list(biz_tx_customers_sorted_unique_count)\n",
    "}\n",
    "\n",
    "# Create small dataframe\n",
    "biz_slim_df = pd.DataFrame(biz_slim_data)\n",
    "\n",
    "# Create large dataframe\n",
    "biz_large_df = pd.DataFrame(biz_large_data)"
   ]
  },
  {
   "cell_type": "code",
   "execution_count": 12,
   "id": "7debfda4",
   "metadata": {},
   "outputs": [],
   "source": [
    "# Saves the dataframes to csv files, in the specific folder\n",
    "biz_slim_df.to_csv('SavedData/biz_slim.csv', index=False)\n",
    "biz_large_df.to_csv('SavedData/biz_large.csv', index=False)"
   ]
  },
  {
   "cell_type": "markdown",
   "id": "ec9487b2",
   "metadata": {},
   "source": [
    "## User Data Extraction and Organization"
   ]
  },
  {
   "cell_type": "code",
   "execution_count": 13,
   "id": "97dfd454",
   "metadata": {},
   "outputs": [],
   "source": [
    "# User List\n",
    "# user_id X\n",
    "\n",
    "# total_tx_count X\n",
    "# gross_tx_sum_gbp X\n",
    "\n",
    "# sent_tx_count X\n",
    "# gross_tx_sent_sum_gbp X\n",
    "# gross_tx_sent_mean X\n",
    "# gross_tx_sent_med X\n",
    "\n",
    "# receive_tx_count X\n",
    "# gross_tx_receive_sum_gbp X\n",
    "# gross_tx_receive_mean X\n",
    "# gross_tx_receive_med X\n",
    "\n",
    "# net_tx_count X\n",
    "# net_tx_sum_gbp X"
   ]
  },
  {
   "cell_type": "markdown",
   "id": "145b1c59",
   "metadata": {},
   "source": [
    "### Create User ID List"
   ]
  },
  {
   "cell_type": "code",
   "execution_count": 14,
   "id": "0a88b5ae",
   "metadata": {},
   "outputs": [],
   "source": [
    "# Combine the unique senders, and unique customer receivers\n",
    "customer_list_combination = unique_senders_list + unique_receivers_user_list\n",
    "\n",
    "# Convert all items to strings of integers\n",
    "# Turned into a set as this removed duplicates\n",
    "# Values are sorted alphabetically\n",
    "customer_unique_list = sorted(set([str(int(cust)) for cust in customer_list_combination]))"
   ]
  },
  {
   "cell_type": "markdown",
   "id": "a0880789",
   "metadata": {},
   "source": [
    "### Create Send Tx Count List"
   ]
  },
  {
   "cell_type": "code",
   "execution_count": 15,
   "id": "ca8436de",
   "metadata": {},
   "outputs": [],
   "source": [
    "# Dictionary featuring all the unique customer id's\n",
    "user_send_tx_count_dict = dict.fromkeys(customer_unique_list, 0)\n",
    "\n",
    "# User send tx's, first converted to int to get rid of decimals, then converted to string\n",
    "user_send_tx_count = tx_df['from_totally_fake_account'].astype(int).astype(str).value_counts()\n",
    "\n",
    "# Setting these values to the values in the dictionary\n",
    "for user in customer_unique_list:\n",
    "    if user in user_send_tx_count:\n",
    "        user_send_tx_count_dict[user] = user_send_tx_count[user]\n",
    "\n",
    "# Converting this to a list\n",
    "user_send_tx_count_list = list(user_send_tx_count_dict.values())"
   ]
  },
  {
   "cell_type": "code",
   "execution_count": 16,
   "id": "13353ec2",
   "metadata": {},
   "outputs": [],
   "source": [
    "# User id checker, for send tx count\n",
    "user_id_tx_checker = '1000' # Have to set to String to see count, have to set integer to see value\n",
    "spec_user_send_tx_count = user_send_tx_count.get(user_id_tx_checker, 0)\n",
    "#print(spec_user_send_tx_count)\n",
    "\n",
    "# Ensuring value is or isn't in list\n",
    "#print(user_id_tx_checker in unique_senders_list)"
   ]
  },
  {
   "cell_type": "markdown",
   "id": "27d6a380",
   "metadata": {},
   "source": [
    "### Create Receive Tx Count List"
   ]
  },
  {
   "cell_type": "code",
   "execution_count": 17,
   "id": "8b3aa636",
   "metadata": {},
   "outputs": [],
   "source": [
    "# Dictionary featuring all the unique customer id's\n",
    "user_receive_tx_count_dict = dict.fromkeys(customer_unique_list, 0)\n",
    "\n",
    "# Creating tx_df that features no company names\n",
    "user_tx_df = tx_df[~tx_df['to_randomly_generated_account'].isin(biz_name_list)]\n",
    "\n",
    "# User send tx's, first converted to int to get rid of decimals, then converted to string\n",
    "user_receive_tx_count = user_tx_df['to_randomly_generated_account'].astype(int).astype(str).value_counts()\n",
    "\n",
    "# Setting these values to the values in the dictionary\n",
    "for user in customer_unique_list:\n",
    "    if user in user_receive_tx_count:\n",
    "        user_receive_tx_count_dict[user] = user_receive_tx_count[user]\n",
    "\n",
    "# Converting this to a list\n",
    "user_received_tx_count_list = list(user_receive_tx_count_dict.values())"
   ]
  },
  {
   "cell_type": "code",
   "execution_count": 18,
   "id": "0cc226bf",
   "metadata": {},
   "outputs": [],
   "source": [
    "# User id checker, for send tx count\n",
    "user_id_tx_checker = 100384 # Have to set to String to see count, have to set integer to see value\n",
    "spec_receive_send_tx_count = user_receive_tx_count.get(user_id_tx_checker, 0)\n",
    "#print(spec_receive_send_tx_count)\n",
    "\n",
    "# Ensuring value is or isn't in list\n",
    "#print(user_id_tx_checker in unique_receivers_list)"
   ]
  },
  {
   "cell_type": "markdown",
   "id": "be846832",
   "metadata": {},
   "source": [
    "### Create Total Tx Count List"
   ]
  },
  {
   "cell_type": "code",
   "execution_count": 19,
   "id": "828b7e91",
   "metadata": {},
   "outputs": [],
   "source": [
    "user_total_tx_count_dict = {}\n",
    "\n",
    "for user in user_send_tx_count_dict:\n",
    "    user_total_tx_count_dict[user] =  user_send_tx_count_dict[user] + user_receive_tx_count_dict[user]\n",
    "\n",
    "user_total_tx_count_list = list(user_total_tx_count_dict.values())"
   ]
  },
  {
   "cell_type": "markdown",
   "id": "be805d21",
   "metadata": {},
   "source": [
    "### Create Net Tx Count List"
   ]
  },
  {
   "cell_type": "code",
   "execution_count": 20,
   "id": "48f66055",
   "metadata": {},
   "outputs": [],
   "source": [
    "user_net_tx_count_dict = {}\n",
    "\n",
    "for user in user_send_tx_count_dict:\n",
    "    user_net_tx_count_dict[user] =  user_send_tx_count_dict[user] - user_receive_tx_count_dict[user]\n",
    "\n",
    "user_net_tx_count_list = list(user_net_tx_count_dict.values())"
   ]
  },
  {
   "cell_type": "markdown",
   "id": "51c48316",
   "metadata": {},
   "source": [
    "### Gross Tx Sent Sum GBP"
   ]
  },
  {
   "cell_type": "code",
   "execution_count": 21,
   "id": "c7672335",
   "metadata": {},
   "outputs": [],
   "source": [
    "# Groups the user with all the entries in which they have sent money\n",
    "# The \".sum()\" adds up all these entries\n",
    "grouped_user_id_sent = tx_df.groupby('from_totally_fake_account')['monopoly_money_amount'].sum()\n",
    "\n",
    "# Convert the user id to int to get rid of zero, then to string\n",
    "grouped_user_id_sent.index = grouped_user_id_sent.index.astype(int).astype(str)\n",
    "\n",
    "# Dictionary featuring all the unique customer id's\n",
    "user_sent_tx_sum_dict = dict.fromkeys(customer_unique_list, 0)\n",
    "\n",
    "# Setting these values to the values in the dictionary\n",
    "for user in customer_unique_list:\n",
    "    if user in grouped_user_id_sent:\n",
    "        user_sent_tx_sum_dict[user] = grouped_user_id_sent[user]\n",
    "\n",
    "# Converting this to a list\n",
    "user_sent_tx_sum_list = list(user_sent_tx_sum_dict.values())"
   ]
  },
  {
   "cell_type": "markdown",
   "id": "a17148b7",
   "metadata": {},
   "source": [
    "### Gross Tx Receive Sum GBP"
   ]
  },
  {
   "cell_type": "code",
   "execution_count": 22,
   "id": "1f976519",
   "metadata": {},
   "outputs": [],
   "source": [
    "# Gets the tx_df, filters the dataframe for only rows with business accounts, and putting '~' in front does the reverse\n",
    "user_tx_df = tx_df[~tx_df['to_randomly_generated_account'].isin(biz_name_list)]\n",
    "\n",
    "# Same piece of code used in previous cell, but now finding received money\n",
    "grouped_user_id_received = user_tx_df.groupby('to_randomly_generated_account')['monopoly_money_amount'].sum()\n",
    "\n",
    "# Convert the user id to int to get rid of zero, then to string\n",
    "grouped_user_id_received.index = grouped_user_id_received.index.astype(int).astype(str)\n",
    "\n",
    "# Dictionary featuring all the unique customer id's\n",
    "user_received_tx_sum_dict = dict.fromkeys(customer_unique_list, 0)\n",
    "\n",
    "# Setting these values to the values in the dictionary\n",
    "for user in customer_unique_list:\n",
    "    if user in grouped_user_id_received:\n",
    "        user_received_tx_sum_dict[user] = grouped_user_id_received[user]\n",
    "\n",
    "# Converting this to a list\n",
    "user_received_tx_sum_list = list(user_received_tx_sum_dict.values())"
   ]
  },
  {
   "cell_type": "markdown",
   "id": "fbde315d",
   "metadata": {},
   "source": [
    "### Gross Tx Sum GBP"
   ]
  },
  {
   "cell_type": "code",
   "execution_count": 23,
   "id": "47ef1a0a",
   "metadata": {},
   "outputs": [],
   "source": [
    "user_total_tx_sum_dict = {}\n",
    "\n",
    "for user in user_sent_tx_sum_dict:\n",
    "    user_total_tx_sum_dict[user] =  user_sent_tx_sum_dict[user] + user_received_tx_sum_dict[user]\n",
    "\n",
    "user_total_tx_sum_list = list(user_total_tx_sum_dict.values())\n",
    "#print(user_total_tx_sum_list)"
   ]
  },
  {
   "cell_type": "markdown",
   "id": "9230a111",
   "metadata": {},
   "source": [
    "### Net Tx Sum GBP"
   ]
  },
  {
   "cell_type": "code",
   "execution_count": 24,
   "id": "4161307e",
   "metadata": {},
   "outputs": [],
   "source": [
    "user_net_tx_sum_dict = {}\n",
    "\n",
    "for user in user_sent_tx_sum_dict:\n",
    "    user_net_tx_sum_dict[user] =  user_sent_tx_sum_dict[user] - user_received_tx_sum_dict[user]\n",
    "\n",
    "user_net_tx_sum_list = list(user_net_tx_sum_dict.values())\n",
    "#print(user_net_tx_sum_list)"
   ]
  },
  {
   "cell_type": "markdown",
   "id": "127a1512",
   "metadata": {},
   "source": [
    "### Gross Tx Sent Mean GBP"
   ]
  },
  {
   "cell_type": "code",
   "execution_count": 25,
   "id": "8b95d0b1",
   "metadata": {},
   "outputs": [],
   "source": [
    "# Groups the user with all the entries in which they have sent money\n",
    "# The \".sum()\" adds up all these entries\n",
    "grouped_user_id_sent_mean = tx_df.groupby('from_totally_fake_account')['monopoly_money_amount'].mean()\n",
    "\n",
    "# Convert the user id to int to get rid of zero, then to string\n",
    "grouped_user_id_sent_mean.index = grouped_user_id_sent_mean.index.astype(int).astype(str)\n",
    "\n",
    "# Dictionary featuring all the unique customer id's\n",
    "user_sent_tx_mean_dict = dict.fromkeys(customer_unique_list, 0)\n",
    "\n",
    "# Setting these values to the values in the dictionary\n",
    "for user in customer_unique_list:\n",
    "    if user in grouped_user_id_sent_mean:\n",
    "        user_sent_tx_mean_dict[user] = grouped_user_id_sent_mean[user]\n",
    "\n",
    "# Converting this to a list\n",
    "user_sent_tx_mean_list = list(user_sent_tx_mean_dict.values())"
   ]
  },
  {
   "cell_type": "markdown",
   "id": "8cade973",
   "metadata": {},
   "source": [
    "### Gross Tx Sent Median GBP"
   ]
  },
  {
   "cell_type": "code",
   "execution_count": 26,
   "id": "edde95a9",
   "metadata": {},
   "outputs": [],
   "source": [
    "# Groups the user with all the entries in which they have sent money\n",
    "# The \".sum()\" adds up all these entries\n",
    "grouped_user_id_sent_median = tx_df.groupby('from_totally_fake_account')['monopoly_money_amount'].median()\n",
    "\n",
    "# Convert the user id to int to get rid of zero, then to string\n",
    "grouped_user_id_sent_median.index = grouped_user_id_sent_median.index.astype(int).astype(str)\n",
    "\n",
    "# Dictionary featuring all the unique customer id's\n",
    "user_sent_tx_median_dict = dict.fromkeys(customer_unique_list, 0)\n",
    "\n",
    "# Setting these values to the values in the dictionary\n",
    "for user in customer_unique_list:\n",
    "    if user in grouped_user_id_sent_median:\n",
    "        user_sent_tx_median_dict[user] = grouped_user_id_sent_median[user]\n",
    "\n",
    "# Converting this to a list\n",
    "user_sent_tx_median_list = list(user_sent_tx_median_dict.values())"
   ]
  },
  {
   "cell_type": "markdown",
   "id": "c48db54b",
   "metadata": {},
   "source": [
    "### Gross Tx Received Mean GBP"
   ]
  },
  {
   "cell_type": "code",
   "execution_count": 27,
   "id": "52acd26c",
   "metadata": {},
   "outputs": [],
   "source": [
    "# Groups the user with all the entries in which they have sent money\n",
    "# The \".sum()\" adds up all these entries\n",
    "grouped_user_id_received_mean = user_tx_df.groupby('to_randomly_generated_account')['monopoly_money_amount'].mean()\n",
    "\n",
    "# Convert the user id to int to get rid of zero, then to string\n",
    "grouped_user_id_received_mean.index = grouped_user_id_received_mean.index.astype(int).astype(str)\n",
    "\n",
    "# Dictionary featuring all the unique customer id's\n",
    "user_received_tx_mean_dict = dict.fromkeys(customer_unique_list, 0)\n",
    "\n",
    "# Setting these values to the values in the dictionary\n",
    "for user in customer_unique_list:\n",
    "    if user in grouped_user_id_received_mean:\n",
    "        user_received_tx_mean_dict[user] = grouped_user_id_received_mean[user]\n",
    "\n",
    "# Converting this to a list\n",
    "user_received_tx_mean_list = list(user_received_tx_mean_dict.values())"
   ]
  },
  {
   "cell_type": "markdown",
   "id": "b04067da",
   "metadata": {},
   "source": [
    "### Gross Tx Received Mean GBP"
   ]
  },
  {
   "cell_type": "code",
   "execution_count": 28,
   "id": "57d7ef99",
   "metadata": {},
   "outputs": [],
   "source": [
    "# Groups the user with all the entries in which they have sent money\n",
    "# The \".sum()\" adds up all these entries\n",
    "grouped_user_id_received_median = user_tx_df.groupby('to_randomly_generated_account')['monopoly_money_amount'].median()\n",
    "\n",
    "# Convert the user id to int to get rid of zero, then to string\n",
    "grouped_user_id_received_median.index = grouped_user_id_received_median.index.astype(int).astype(str)\n",
    "\n",
    "# Dictionary featuring all the unique customer id's\n",
    "user_received_tx_median_dict = dict.fromkeys(customer_unique_list, 0)\n",
    "\n",
    "# Setting these values to the values in the dictionary\n",
    "for user in customer_unique_list:\n",
    "    if user in grouped_user_id_received_median:\n",
    "        user_received_tx_median_dict[user] = grouped_user_id_received_median[user]\n",
    "\n",
    "# Converting this to a list\n",
    "user_received_tx_median_list = list(user_received_tx_median_dict.values())"
   ]
  },
  {
   "cell_type": "markdown",
   "id": "0fe70603",
   "metadata": {},
   "source": [
    "## Building the User Dataframe"
   ]
  },
  {
   "cell_type": "code",
   "execution_count": 30,
   "id": "6417e145",
   "metadata": {},
   "outputs": [],
   "source": [
    "user_slim_data = {\n",
    "    'user_id': customer_unique_list,\n",
    "    'sent_tx_count': user_send_tx_count_list,\n",
    "    'sent_tx_sum_gbp': user_sent_tx_sum_list,\n",
    "    'sent_tx_median_gbp': user_sent_tx_median_list,\n",
    "    'received_tx_count': user_received_tx_count_list,\n",
    "    'received_tx_sum_gbp': user_received_tx_sum_list,\n",
    "    'received_tx_median_gbp': user_received_tx_median_list\n",
    "    \n",
    "}\n",
    "\n",
    "user_large_data = {\n",
    "    'user_id': customer_unique_list,\n",
    "    'total_tx_count': user_total_tx_count_list,\n",
    "    'net_tx_count': user_net_tx_count_list,\n",
    "    'total_tx_sum_gbp': user_total_tx_sum_list,\n",
    "    'net_tx_sum_gbp': user_net_tx_sum_list,\n",
    "    'sent_tx_count': user_send_tx_count_list,\n",
    "    'sent_tx_sum_gbp': user_sent_tx_sum_list,\n",
    "    'sent_tx_mean_gbp': user_sent_tx_mean_list,\n",
    "    'sent_tx_median_gbp': user_sent_tx_median_list,\n",
    "    'received_tx_count': user_received_tx_count_list,\n",
    "    'received_tx_sum_gbp': user_received_tx_sum_list,\n",
    "    'received_tx_mean_gbp': user_received_tx_mean_list,\n",
    "    'received_tx_median_gbp': user_received_tx_median_list\n",
    "    \n",
    "}\n",
    "\n",
    "# Create small dataframe\n",
    "user_slim_df = pd.DataFrame(user_slim_data)\n",
    "\n",
    "# Create large dataframe\n",
    "user_large_df = pd.DataFrame(user_large_data)"
   ]
  },
  {
   "cell_type": "code",
   "execution_count": 31,
   "id": "4eae3f8a",
   "metadata": {},
   "outputs": [],
   "source": [
    "# Saves the dataframes to csv files, in the specific folder\n",
    "user_slim_df.to_csv('SavedData/user_slim.csv', index=False)\n",
    "user_large_df.to_csv('SavedData/user_large.csv', index=False)"
   ]
  }
 ],
 "metadata": {
  "kernelspec": {
   "display_name": "Python 3 (ipykernel)",
   "language": "python",
   "name": "python3"
  },
  "language_info": {
   "codemirror_mode": {
    "name": "ipython",
    "version": 3
   },
   "file_extension": ".py",
   "mimetype": "text/x-python",
   "name": "python",
   "nbconvert_exporter": "python",
   "pygments_lexer": "ipython3",
   "version": "3.9.13"
  }
 },
 "nbformat": 4,
 "nbformat_minor": 5
}
