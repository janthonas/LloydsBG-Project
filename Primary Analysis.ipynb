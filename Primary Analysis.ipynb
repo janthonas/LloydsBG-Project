{
 "cells": [
  {
   "cell_type": "markdown",
   "id": "3de71d49",
   "metadata": {},
   "source": [
    "## Import Libraries"
   ]
  },
  {
   "cell_type": "code",
   "execution_count": 125,
   "id": "915af7fc",
   "metadata": {},
   "outputs": [],
   "source": [
    "# Importing necessary libraries\n",
    "import pandas as pd\n",
    "import numpy as np"
   ]
  },
  {
   "cell_type": "markdown",
   "id": "f5d337fc",
   "metadata": {},
   "source": [
    "## Loading the Dataset"
   ]
  },
  {
   "cell_type": "code",
   "execution_count": 126,
   "id": "fc995a5b",
   "metadata": {},
   "outputs": [],
   "source": [
    "# Loading in and setting the data\n",
    "# You can't download these files from the github, you have to drop them in the folder\n",
    "tx_data = pd.read_csv('fake_transactional_data_24.csv')\n",
    "tx_df = pd.DataFrame(tx_data)"
   ]
  },
  {
   "cell_type": "code",
   "execution_count": 127,
   "id": "cc2cc353",
   "metadata": {},
   "outputs": [
    {
     "data": {
      "text/html": [
       "<div>\n",
       "<style scoped>\n",
       "    .dataframe tbody tr th:only-of-type {\n",
       "        vertical-align: middle;\n",
       "    }\n",
       "\n",
       "    .dataframe tbody tr th {\n",
       "        vertical-align: top;\n",
       "    }\n",
       "\n",
       "    .dataframe thead th {\n",
       "        text-align: right;\n",
       "    }\n",
       "</style>\n",
       "<table border=\"1\" class=\"dataframe\">\n",
       "  <thead>\n",
       "    <tr style=\"text-align: right;\">\n",
       "      <th></th>\n",
       "      <th>from_totally_fake_account</th>\n",
       "      <th>monopoly_money_amount</th>\n",
       "      <th>to_randomly_generated_account</th>\n",
       "      <th>not_happened_yet_date</th>\n",
       "    </tr>\n",
       "  </thead>\n",
       "  <tbody>\n",
       "    <tr>\n",
       "      <th>0</th>\n",
       "      <td>10371.0</td>\n",
       "      <td>4.00</td>\n",
       "      <td>CINEMA</td>\n",
       "      <td>01/01/2025</td>\n",
       "    </tr>\n",
       "    <tr>\n",
       "      <th>1</th>\n",
       "      <td>88339.0</td>\n",
       "      <td>2.40</td>\n",
       "      <td>40544</td>\n",
       "      <td>01/01/2025</td>\n",
       "    </tr>\n",
       "    <tr>\n",
       "      <th>2</th>\n",
       "      <td>18555.0</td>\n",
       "      <td>2.40</td>\n",
       "      <td>85149</td>\n",
       "      <td>01/01/2025</td>\n",
       "    </tr>\n",
       "    <tr>\n",
       "      <th>3</th>\n",
       "      <td>18555.0</td>\n",
       "      <td>4.10</td>\n",
       "      <td>HIPSTER_COFFEE_SHOP</td>\n",
       "      <td>01/01/2025</td>\n",
       "    </tr>\n",
       "    <tr>\n",
       "      <th>4</th>\n",
       "      <td>80792.0</td>\n",
       "      <td>1.95</td>\n",
       "      <td>18555</td>\n",
       "      <td>01/01/2025</td>\n",
       "    </tr>\n",
       "  </tbody>\n",
       "</table>\n",
       "</div>"
      ],
      "text/plain": [
       "   from_totally_fake_account  monopoly_money_amount  \\\n",
       "0                    10371.0                   4.00   \n",
       "1                    88339.0                   2.40   \n",
       "2                    18555.0                   2.40   \n",
       "3                    18555.0                   4.10   \n",
       "4                    80792.0                   1.95   \n",
       "\n",
       "  to_randomly_generated_account not_happened_yet_date  \n",
       "0                        CINEMA            01/01/2025  \n",
       "1                         40544            01/01/2025  \n",
       "2                         85149            01/01/2025  \n",
       "3           HIPSTER_COFFEE_SHOP            01/01/2025  \n",
       "4                         18555            01/01/2025  "
      ]
     },
     "execution_count": 127,
     "metadata": {},
     "output_type": "execute_result"
    }
   ],
   "source": [
    "tx_df.head()"
   ]
  },
  {
   "cell_type": "markdown",
   "id": "7ce5b761",
   "metadata": {},
   "source": [
    "### Creating Senders and Receivers List"
   ]
  },
  {
   "cell_type": "code",
   "execution_count": 128,
   "id": "b163b2a6",
   "metadata": {},
   "outputs": [
    {
     "name": "stdout",
     "output_type": "stream",
     "text": [
      "0                        CINEMA\n",
      "1                         40544\n",
      "2                         85149\n",
      "3           HIPSTER_COFFEE_SHOP\n",
      "4                         18555\n",
      "                   ...         \n",
      "10148275            COFFEE_SHOP\n",
      "10148276            COFFEE_SHOP\n",
      "10148277               WINE_BAR\n",
      "10148278                  57569\n",
      "10148279    A_LOCAL_COFFEE_SHOP\n",
      "Name: to_randomly_generated_account, Length: 10148280, dtype: object\n"
     ]
    }
   ],
   "source": [
    "# Creating senders and receivers list\n",
    "senders_list = sorted(tx_df['from_totally_fake_account'])\n",
    "receivers_list = sorted(tx_df['to_randomly_generated_account'])\n",
    "\n",
    "print(tx_df['to_randomly_generated_account'])"
   ]
  },
  {
   "cell_type": "markdown",
   "id": "7311dd1a",
   "metadata": {},
   "source": [
    "## Business Data Extraction and Organization"
   ]
  },
  {
   "cell_type": "code",
   "execution_count": 129,
   "id": "db6556a4",
   "metadata": {},
   "outputs": [],
   "source": [
    "# Creating business and users list\n",
    "receivers_biz_list = []\n",
    "receivers_user_list = []\n",
    "\n",
    "for receiver in receivers_list:\n",
    "    if receiver.isnumeric() == True:\n",
    "        receivers_user_list.append(receiver)\n",
    "    else:\n",
    "        receivers_biz_list.append(receiver)"
   ]
  },
  {
   "cell_type": "code",
   "execution_count": 130,
   "id": "0667cb1a",
   "metadata": {},
   "outputs": [],
   "source": [
    "unique_senders_list = sorted(list(set(senders_list)))\n",
    "unique_receivers_list = sorted(list(set(receivers_list)))\n",
    "unique_receivers_biz_list = sorted(list(set(receivers_biz_list)))\n",
    "unique_receivers_user_list = sorted(list(set(receivers_user_list)))"
   ]
  },
  {
   "cell_type": "markdown",
   "id": "28eb7854",
   "metadata": {},
   "source": [
    "### Extracting Valuable Business Data"
   ]
  },
  {
   "cell_type": "code",
   "execution_count": 7,
   "id": "78becde7",
   "metadata": {},
   "outputs": [],
   "source": [
    "# Creating business table\n",
    "# Pruning data from original dataframe\n",
    "biz_tx_df = tx_df[tx_df['to_randomly_generated_account'].isin(unique_receivers_biz_list)]\n",
    "biz_tx_df = biz_tx_df.sort_values('to_randomly_generated_account')\n",
    "\n",
    "# Getting list of ordered names\n",
    "biz_name_list = list(biz_tx_df['to_randomly_generated_account'].unique())"
   ]
  },
  {
   "cell_type": "code",
   "execution_count": 8,
   "id": "7caf273e",
   "metadata": {},
   "outputs": [],
   "source": [
    "# Getting Descriptive Stats\n",
    "biz_tx_count = biz_tx_df.groupby('to_randomly_generated_account')['monopoly_money_amount'].count()\n",
    "biz_tx_sum = biz_tx_df.groupby('to_randomly_generated_account')['monopoly_money_amount'].sum()\n",
    "\n",
    "biz_tx_mean = biz_tx_df.groupby('to_randomly_generated_account')['monopoly_money_amount'].mean()\n",
    "biz_tx_median = biz_tx_df.groupby('to_randomly_generated_account')['monopoly_money_amount'].median()"
   ]
  },
  {
   "cell_type": "code",
   "execution_count": 9,
   "id": "6fda25a9",
   "metadata": {},
   "outputs": [],
   "source": [
    "# Needed to count words\n",
    "from collections import Counter\n",
    "\n",
    "# Custom aggregation function for sorted list\n",
    "def sorted_list_agg(input_list):\n",
    "    return sorted(input_list)\n",
    "\n",
    "# Custom aggregation function for sorted unique list\n",
    "def sorted_unique_list_agg(input_list):\n",
    "    return sorted(input_list.unique())\n",
    "\n",
    "def sorted_list_count_agg(input_list):\n",
    "    # Sort the list\n",
    "    input_list = sorted(input_list)\n",
    "    \n",
    "    # Count the frequencies\n",
    "    input_word_freqs = Counter(input_list)\n",
    "    \n",
    "    # Generate the output list\n",
    "    # dict.fromkeys iterates over the words in the order they occur, it ensures the words remain in order\n",
    "    output_list = [input_word_freqs[word_count] for word_count in dict.fromkeys(input_word_freqs)]\n",
    "    \n",
    "    return output_list"
   ]
  },
  {
   "cell_type": "code",
   "execution_count": 10,
   "id": "9e186b43",
   "metadata": {},
   "outputs": [],
   "source": [
    "# Getting Business Sorted Customer Details\n",
    "biz_tx_customers_sorted = biz_tx_df.groupby('to_randomly_generated_account')['from_totally_fake_account'].agg(sorted_list_agg)\n",
    "\n",
    "# Getting Business Unique Sorted Customer Details\n",
    "biz_tx_customers_sorted_unique = biz_tx_df.groupby('to_randomly_generated_account')['from_totally_fake_account'].agg(sorted_unique_list_agg)\n",
    "\n",
    "# Getting Business Sorted Customer Details Count\n",
    "biz_tx_customers_sorted_unique_count = biz_tx_df.groupby('to_randomly_generated_account')['from_totally_fake_account'].agg(sorted_list_count_agg)"
   ]
  },
  {
   "cell_type": "markdown",
   "id": "d641ef4e",
   "metadata": {},
   "source": [
    "### Building Business Dataframes"
   ]
  },
  {
   "cell_type": "code",
   "execution_count": 11,
   "id": "4ee021e7",
   "metadata": {},
   "outputs": [],
   "source": [
    "# Building business accounts table\n",
    "biz_slim_data = {\n",
    "    'name': biz_name_list,\n",
    "    'tx_count': list(biz_tx_count),\n",
    "    'tx_sum_gbp': list(biz_tx_sum),\n",
    "    'tx_mean_gbp': list(biz_tx_mean),\n",
    "    'tx_median_gbp': list(biz_tx_median)\n",
    "}\n",
    "\n",
    "# Building business accounts table\n",
    "biz_large_data = {\n",
    "    'name': biz_name_list,\n",
    "    'tx_count': list(biz_tx_count),\n",
    "    'tx_sum_gbp': list(biz_tx_sum),\n",
    "    'tx_mean_gbp': list(biz_tx_mean),\n",
    "    'tx_median_gbp': list(biz_tx_median),\n",
    "    'customers_sorted_unique': list(biz_tx_customers_sorted_unique),\n",
    "    'customers_tx_count': list(biz_tx_customers_sorted_unique_count)\n",
    "}\n",
    "\n",
    "# Create small dataframe\n",
    "biz_slim_df = pd.DataFrame(biz_slim_data)\n",
    "\n",
    "# Create large dataframe\n",
    "biz_large_df = pd.DataFrame(biz_large_data)"
   ]
  },
  {
   "cell_type": "markdown",
   "id": "ec9487b2",
   "metadata": {},
   "source": [
    "## User Data Extraction and Organization"
   ]
  },
  {
   "cell_type": "code",
   "execution_count": 147,
   "id": "97dfd454",
   "metadata": {},
   "outputs": [],
   "source": [
    "# User List\n",
    "# user_id\n",
    "\n",
    "# total_tx_count\n",
    "# gross_tx_sum_gbp\n",
    "# gross_tx_mean\n",
    "# gross_tx_med\n",
    "\n",
    "# sent_tx_count\n",
    "# gross_tx_sent_sum_gbp\n",
    "# gross_tx_sent_mean\n",
    "# gross_tx_sent_med\n",
    "\n",
    "# receive_tx_count\n",
    "# gross_tx_receive_sum_gbp\n",
    "# gross_tx_receive_mean\n",
    "# gross_tx_receive_med\n",
    "\n",
    "# net_tx_count\n",
    "# net_tx_sum_gbp\n",
    "# net_tx_mean_gbp\n",
    "\n",
    "# biz_tx_name\n",
    "# biz_tx_count\n",
    "# biz_tx_sum\n",
    "# biz_tx_mean"
   ]
  },
  {
   "cell_type": "markdown",
   "id": "7e69aa29",
   "metadata": {},
   "source": [
    "### Create User ID List"
   ]
  },
  {
   "cell_type": "code",
   "execution_count": 148,
   "id": "0a88b5ae",
   "metadata": {},
   "outputs": [],
   "source": [
    "# Combine the unique senders, and unique customer receivers\n",
    "customer_list_combination = unique_senders_list + unique_receivers_user_list\n",
    "\n",
    "# Convert all items to strings of integers\n",
    "# Turned into a set as this removed duplicates\n",
    "# Values are sorted alphabetically\n",
    "customer_unique_list = sorted(set([str(int(cust)) for cust in customer_list_combination]))"
   ]
  },
  {
   "cell_type": "markdown",
   "id": "ef6e2f51",
   "metadata": {},
   "source": [
    "### Create Total Tx Count List"
   ]
  },
  {
   "cell_type": "code",
   "execution_count": 149,
   "id": "da755b56",
   "metadata": {},
   "outputs": [],
   "source": [
    "total_senders = list(tx_df['from_totally_fake_account'])\n",
    "total_receivers = receivers_user_list\n",
    "total_customer_frequency = total_senders + total_receivers\n",
    "total_customer_frequency = [str(int(cust)) for cust in total_customer_frequency]\n",
    "\n",
    "total_customer_tx_count = sorted_list_count_agg(total_customer_frequency)"
   ]
  },
  {
   "cell_type": "markdown",
   "id": "de45c116",
   "metadata": {},
   "source": [
    "### Create Send Tx Count List"
   ]
  },
  {
   "cell_type": "code",
   "execution_count": 150,
   "id": "b4fc9cd0",
   "metadata": {},
   "outputs": [],
   "source": [
    "send_customer_frequency = [str(int(cust)) for cust in total_senders]\n",
    "send_customer_tx_count = sorted_list_count_agg(send_customer_frequency)"
   ]
  },
  {
   "cell_type": "markdown",
   "id": "5546b92f",
   "metadata": {},
   "source": [
    "### Create Receive Tx Count List"
   ]
  },
  {
   "cell_type": "code",
   "execution_count": 151,
   "id": "852edc6a",
   "metadata": {},
   "outputs": [],
   "source": [
    "receive_customer_frequency = [str(int(cust)) for cust in total_receivers]\n",
    "receive_customer_tx_count = sorted_list_count_agg(receive_customer_frequency)"
   ]
  },
  {
   "cell_type": "markdown",
   "id": "1fd3955c",
   "metadata": {},
   "source": [
    "### Create Net Tx Count List"
   ]
  },
  {
   "cell_type": "code",
   "execution_count": null,
   "id": "7c95328c",
   "metadata": {},
   "outputs": [],
   "source": [
    "# Net Tx Count\n",
    "net_customer_tx_count = [send_customer_tx_count - receive_customer_tx_count for receive_customer_tx_count, send_customer_tx_count in zip(list_one, list_two)]\n"
   ]
  }
 ],
 "metadata": {
  "kernelspec": {
   "display_name": "Python 3 (ipykernel)",
   "language": "python",
   "name": "python3"
  },
  "language_info": {
   "codemirror_mode": {
    "name": "ipython",
    "version": 3
   },
   "file_extension": ".py",
   "mimetype": "text/x-python",
   "name": "python",
   "nbconvert_exporter": "python",
   "pygments_lexer": "ipython3",
   "version": "3.9.13"
  }
 },
 "nbformat": 4,
 "nbformat_minor": 5
}
