{
 "cells": [
  {
   "cell_type": "markdown",
   "id": "3de71d49",
   "metadata": {},
   "source": [
    "## Import Libraries"
   ]
  },
  {
   "cell_type": "code",
   "execution_count": 1,
   "id": "915af7fc",
   "metadata": {},
   "outputs": [],
   "source": [
    "# Importing necessary libraries\n",
    "import pandas as pd\n",
    "import numpy as np"
   ]
  },
  {
   "cell_type": "markdown",
   "id": "f5d337fc",
   "metadata": {},
   "source": [
    "## Loading the Dataset"
   ]
  },
  {
   "cell_type": "code",
   "execution_count": 2,
   "id": "fc995a5b",
   "metadata": {},
   "outputs": [],
   "source": [
    "# Loading in and setting the data\n",
    "# You can't download these files from the github, you have to drop them in the folder\n",
    "tx_data = pd.read_csv('fake_transactional_data_24.csv')\n",
    "tx_df = pd.DataFrame(tx_data)"
   ]
  },
  {
   "cell_type": "code",
   "execution_count": 3,
   "id": "cc2cc353",
   "metadata": {},
   "outputs": [
    {
     "data": {
      "text/html": [
       "<div>\n",
       "<style scoped>\n",
       "    .dataframe tbody tr th:only-of-type {\n",
       "        vertical-align: middle;\n",
       "    }\n",
       "\n",
       "    .dataframe tbody tr th {\n",
       "        vertical-align: top;\n",
       "    }\n",
       "\n",
       "    .dataframe thead th {\n",
       "        text-align: right;\n",
       "    }\n",
       "</style>\n",
       "<table border=\"1\" class=\"dataframe\">\n",
       "  <thead>\n",
       "    <tr style=\"text-align: right;\">\n",
       "      <th></th>\n",
       "      <th>from_totally_fake_account</th>\n",
       "      <th>monopoly_money_amount</th>\n",
       "      <th>to_randomly_generated_account</th>\n",
       "      <th>not_happened_yet_date</th>\n",
       "    </tr>\n",
       "  </thead>\n",
       "  <tbody>\n",
       "    <tr>\n",
       "      <th>0</th>\n",
       "      <td>10371.0</td>\n",
       "      <td>4.00</td>\n",
       "      <td>CINEMA</td>\n",
       "      <td>01/01/2025</td>\n",
       "    </tr>\n",
       "    <tr>\n",
       "      <th>1</th>\n",
       "      <td>88339.0</td>\n",
       "      <td>2.40</td>\n",
       "      <td>40544</td>\n",
       "      <td>01/01/2025</td>\n",
       "    </tr>\n",
       "    <tr>\n",
       "      <th>2</th>\n",
       "      <td>18555.0</td>\n",
       "      <td>2.40</td>\n",
       "      <td>85149</td>\n",
       "      <td>01/01/2025</td>\n",
       "    </tr>\n",
       "    <tr>\n",
       "      <th>3</th>\n",
       "      <td>18555.0</td>\n",
       "      <td>4.10</td>\n",
       "      <td>HIPSTER_COFFEE_SHOP</td>\n",
       "      <td>01/01/2025</td>\n",
       "    </tr>\n",
       "    <tr>\n",
       "      <th>4</th>\n",
       "      <td>80792.0</td>\n",
       "      <td>1.95</td>\n",
       "      <td>18555</td>\n",
       "      <td>01/01/2025</td>\n",
       "    </tr>\n",
       "  </tbody>\n",
       "</table>\n",
       "</div>"
      ],
      "text/plain": [
       "   from_totally_fake_account  monopoly_money_amount  \\\n",
       "0                    10371.0                   4.00   \n",
       "1                    88339.0                   2.40   \n",
       "2                    18555.0                   2.40   \n",
       "3                    18555.0                   4.10   \n",
       "4                    80792.0                   1.95   \n",
       "\n",
       "  to_randomly_generated_account not_happened_yet_date  \n",
       "0                        CINEMA            01/01/2025  \n",
       "1                         40544            01/01/2025  \n",
       "2                         85149            01/01/2025  \n",
       "3           HIPSTER_COFFEE_SHOP            01/01/2025  \n",
       "4                         18555            01/01/2025  "
      ]
     },
     "execution_count": 3,
     "metadata": {},
     "output_type": "execute_result"
    }
   ],
   "source": [
    "tx_df.head()"
   ]
  },
  {
   "cell_type": "markdown",
   "id": "7311dd1a",
   "metadata": {},
   "source": [
    "## Data Extraction and Organization"
   ]
  },
  {
   "cell_type": "markdown",
   "id": "574029c8",
   "metadata": {},
   "source": [
    "### Creating Senders and Receivers List"
   ]
  },
  {
   "cell_type": "code",
   "execution_count": 34,
   "id": "fd6d0583",
   "metadata": {},
   "outputs": [],
   "source": [
    "# Creating senders and receivers list\n",
    "unique_senders_list = list(tx_df['from_totally_fake_account'].unique())\n",
    "unique_senders_list.sort()\n",
    "unique_receivers_list = list(tx_df['to_randomly_generated_account'].unique())\n",
    "unique_receivers_list.sort()"
   ]
  },
  {
   "cell_type": "code",
   "execution_count": 40,
   "id": "db6556a4",
   "metadata": {},
   "outputs": [
    {
     "name": "stdout",
     "output_type": "stream",
     "text": [
      "['ACCESSORY_SHOP', 'A_CAFE', 'A_LOCAL_COFFEE_SHOP', 'A_SUPERMARKET', 'BAR', 'BOOKSHOP', 'BUTCHER', 'BUTCHERS', 'CAFE', 'CHILDRENDS_SHOP', 'CHINESE_RESTAURANT', 'CHINESE_TAKEAWAY', 'CINEMA', 'CLOTHES_SHOP', 'COCKTAIL_BAR', 'COFFEE_SHOP', 'COMIC_BOOK_SHOP', 'COOKSHOP', 'DEPARTMENT_STORE', 'DIY_STORE', 'DVD_SHOP', 'ELECTRONICS_SHOP', 'EXPRESS_SUPERMARKET', 'FASHIONABLE_SPORTSWARE_SHOP', 'FASHION_SHOP', 'FLORIST', 'G&T_BAR', 'GAME_SHOP', 'GOURMET_COFFEE_SHOP', 'GREENGROCER', 'GYM', 'HIPSTER_COFFEE_SHOP', 'HIPSTER_ELECTRONICS_SHOP', 'HOME_IMPROVEMENT_STORE', 'INDIAN_RESTAURANT', 'JEWLLERY_SHOP', 'KEBAB_SHOP', 'KIDS_ACTIVITY_CENTRE', 'KIDS_CLOTHING_SHOP', 'LARGE_SUPERMARKET', 'LIQUOR_STORE', 'LOCAL_BOOKSHOP', 'LOCAL_PUB', 'LOCAL_RESTAURANT', 'LOCAL_WATERING_HOLE', 'LUNCH_PLACE', 'LUNCH_VAN', 'NERDY_BOOK_STORE', 'PET_SHOP', 'PET_TOY_SHOP', 'PRETENTIOUS_COFFEE_SHOP', 'PUB', 'RESTAURANT', 'RESTAURANT_VOUCHER', 'ROASTERIE', 'RUNNING_SHOP', 'SANDWICH_SHOP', 'SCHOOL_SUPPLY_STORE', 'SEAFOOD_RESAURANT', 'SECOND_HAND_BOOKSHOP', 'SPORT_SHOP', 'STEAK_HOUSE', 'STREAMING_SERVICE', 'TAKEAWAY', 'TAKEAWAY_CURRY', 'TEA_SHOP', 'TECH_SHOP', 'THE_SUPERMARKET', 'TOTALLY_A_REAL_COFFEE_SHOP', 'TOY_SHOP', 'TO_BEAN_OR_NOT_TO_BEAN', 'TRAINER_SHOP', 'TURKEY_FARM', 'VIDEO_GAME_STORE', 'WE_HAVE_BEAN_WEIGHTING', 'WHISKEY_BAR', 'WHISKEY_SHOP', 'WINE_BAR', 'WINE_CELLAR']\n"
     ]
    }
   ],
   "source": [
    "# Creating business and users list\n",
    "unique_receivers_biz_list = []\n",
    "unique_receivers_user_list = []\n",
    "\n",
    "for receiver in unique_receivers_list:\n",
    "    if receiver.isnumeric() == True:\n",
    "        unique_receivers_user_list.append(receiver)\n",
    "    else:\n",
    "        unique_receivers_biz_list.append(receiver)"
   ]
  },
  {
   "cell_type": "markdown",
   "id": "28eb7854",
   "metadata": {},
   "source": [
    "### Working with Business Accounts"
   ]
  },
  {
   "cell_type": "code",
   "execution_count": 41,
   "id": "78becde7",
   "metadata": {},
   "outputs": [],
   "source": [
    "# Creating business table\n",
    "# Pruning data from original dataframe\n",
    "biz_tx_df = tx_df[tx_df['to_randomly_generated_account'].isin(unique_receivers_biz_list)]\n",
    "biz_tx_df = biz_tx_df.sort_values('to_randomly_generated_account')"
   ]
  },
  {
   "cell_type": "code",
   "execution_count": 42,
   "id": "7caf273e",
   "metadata": {},
   "outputs": [],
   "source": [
    "# Getting Descriptive Stats\n",
    "biz_tx_count = biz_tx_df.groupby('to_randomly_generated_account')['monopoly_money_amount'].count()\n",
    "biz_tx_sum = biz_tx_df.groupby('to_randomly_generated_account')['monopoly_money_amount'].sum()\n",
    "\n",
    "biz_tx_mean = biz_tx_df.groupby('to_randomly_generated_account')['monopoly_money_amount'].mean()\n",
    "biz_tx_median = biz_tx_df.groupby('to_randomly_generated_account')['monopoly_money_amount'].median()"
   ]
  },
  {
   "cell_type": "code",
   "execution_count": 43,
   "id": "9e186b43",
   "metadata": {},
   "outputs": [
    {
     "name": "stdout",
     "output_type": "stream",
     "text": [
      "to_randomly_generated_account\n",
      "ACCESSORY_SHOP            [46983.0, 75715.0, 14754.0, 26805.0, 18654.0, ...\n",
      "A_CAFE                    [19143.0, 36391.0, 14754.0, 17151.0, 74767.0, ...\n",
      "A_LOCAL_COFFEE_SHOP       [66113.0, 45642.0, 89061.0, 7672.0, 74169.0, 6...\n",
      "A_SUPERMARKET             [2030.0, 79680.0, 97573.0, 89698.0, 21727.0, 4...\n",
      "BAR                       [27552.0, 13311.0, 71571.0, 38240.0, 22418.0, ...\n",
      "                                                ...                        \n",
      "WE_HAVE_BEAN_WEIGHTING    [33833.0, 54900.0, 99335.0, 48098.0, 7831.0, 7...\n",
      "WHISKEY_BAR               [82958.0, 10454.0, 48894.0, 87388.0, 31105.0, ...\n",
      "WHISKEY_SHOP              [6889.0, 6508.0, 75049.0, 49782.0, 97922.0, 99...\n",
      "WINE_BAR                  [38962.0, 16779.0, 95957.0, 51514.0, 36725.0, ...\n",
      "WINE_CELLAR               [24271.0, 66581.0, 78915.0, 93420.0, 58372.0, ...\n",
      "Name: from_totally_fake_account, Length: 79, dtype: object\n"
     ]
    }
   ],
   "source": [
    "# Getting Business Customer Details\n",
    "biz_tx_customers = biz_tx_df.groupby('to_randomly_generated_account')['from_totally_fake_account'].agg(list)"
   ]
  },
  {
   "cell_type": "code",
   "execution_count": null,
   "id": "49df6f8c",
   "metadata": {},
   "outputs": [
    {
     "name": "stderr",
     "output_type": "stream",
     "text": [
      "IOPub data rate exceeded.\n",
      "The notebook server will temporarily stop sending output\n",
      "to the client in order to avoid crashing it.\n",
      "To change this limit, set the config variable\n",
      "`--NotebookApp.iopub_data_rate_limit`.\n",
      "\n",
      "Current values:\n",
      "NotebookApp.iopub_data_rate_limit=1000000.0 (bytes/sec)\n",
      "NotebookApp.rate_limit_window=3.0 (secs)\n",
      "\n"
     ]
    }
   ],
   "source": [
    "# Necessary to count customer frequency\n",
    "from collections import Counter\n",
    "\n",
    "# Getting Descriptive Stats from Customer Details\n",
    "for biz_num in range(0, len(biz_tx_customers)):\n",
    "    # Using the imported library to count customers\n",
    "    cust_counter = Counter(biz_tx_customers[biz_num])\n",
    "    cust_counter.most_common(5)\n",
    "    print(cust_counter)\n"
   ]
  },
  {
   "cell_type": "code",
   "execution_count": null,
   "id": "4ee021e7",
   "metadata": {},
   "outputs": [],
   "source": []
  }
 ],
 "metadata": {
  "kernelspec": {
   "display_name": "Python 3 (ipykernel)",
   "language": "python",
   "name": "python3"
  },
  "language_info": {
   "codemirror_mode": {
    "name": "ipython",
    "version": 3
   },
   "file_extension": ".py",
   "mimetype": "text/x-python",
   "name": "python",
   "nbconvert_exporter": "python",
   "pygments_lexer": "ipython3",
   "version": "3.9.13"
  }
 },
 "nbformat": 4,
 "nbformat_minor": 5
}
